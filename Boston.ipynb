{
 "cells": [
  {
   "cell_type": "code",
   "execution_count": 3,
   "metadata": {
    "ExecuteTime": {
     "end_time": "2021-03-02T09:38:41.802259Z",
     "start_time": "2021-03-02T09:38:38.841815Z"
    }
   },
   "outputs": [],
   "source": [
    "def big_data(X,y,reqlen):\n",
    "    Big_X = np.array(X)\n",
    "    Big_Y = np.array(y)\n",
    "    while len(Big_X) < reqlen:\n",
    "        Big_X = np.concatenate((Big_X, Big_X))\n",
    "        Big_Y = np.concatenate((Big_Y, Big_Y))\n",
    "    print(Big_X.shape)\n",
    "    indices = np.random.choice(Big_X.shape[0], reqlen, replace=False)\n",
    "    new_X = Big_X[indices]\n",
    "    new_Y = Big_Y[indices]\n",
    "    return new_X, new_Y"
   ]
  },
  {
   "cell_type": "markdown",
   "metadata": {},
   "source": [
    "# 1000 samples"
   ]
  },
  {
   "cell_type": "code",
   "execution_count": 4,
   "metadata": {
    "ExecuteTime": {
     "end_time": "2021-03-02T09:38:49.815733Z",
     "start_time": "2021-03-02T09:38:47.833296Z"
    }
   },
   "outputs": [
    {
     "name": "stdout",
     "output_type": "stream",
     "text": [
      "(1012, 13)\n",
      "(1000, 13)\n",
      "(1000,)\n",
      "2021-03-02 09:38:47.916614 \n",
      "\n"
     ]
    },
    {
     "ename": "Exception",
     "evalue": "Unable to register model. Please try after some time",
     "output_type": "error",
     "traceback": [
      "\u001b[0;31m---------------------------------------------------------------------------\u001b[0m",
      "\u001b[0;31mException\u001b[0m                                 Traceback (most recent call last)",
      "\u001b[0;32m<ipython-input-4-c7c9ba0b5472>\u001b[0m in \u001b[0;36m<module>\u001b[0;34m\u001b[0m\n\u001b[1;32m     73\u001b[0m                \u001b[0mfeature_names\u001b[0m\u001b[0;34m=\u001b[0m\u001b[0mlist\u001b[0m\u001b[0;34m(\u001b[0m\u001b[0mboston\u001b[0m\u001b[0;34m.\u001b[0m\u001b[0mfeature_names\u001b[0m\u001b[0;34m)\u001b[0m\u001b[0;34m,\u001b[0m\u001b[0;34m\u001b[0m\u001b[0m\n\u001b[1;32m     74\u001b[0m                \u001b[0mfeature_ids\u001b[0m\u001b[0;34m=\u001b[0m\u001b[0mlist\u001b[0m\u001b[0;34m(\u001b[0m\u001b[0mboston\u001b[0m\u001b[0;34m.\u001b[0m\u001b[0mfeature_names\u001b[0m\u001b[0;34m)\u001b[0m\u001b[0;34m,\u001b[0m\u001b[0;34m\u001b[0m\u001b[0m\n\u001b[0;32m---> 75\u001b[0;31m                \u001b[0mtarget_names\u001b[0m\u001b[0;34m=\u001b[0m\u001b[0;34m[\u001b[0m\u001b[0;34m'Housing_Price'\u001b[0m\u001b[0;34m]\u001b[0m\u001b[0;34m\u001b[0m\u001b[0m\n\u001b[0m\u001b[1;32m     76\u001b[0m               )\n",
      "\u001b[0;32m~/.local/lib/python3.6/site-packages/mosaicml/api.py\u001b[0m in \u001b[0;36mregister_model\u001b[0;34m(model_obj, scoring_func, name, description, flavour, tags, init_script, schema, y_true, y_pred, prob, features, labels, model_type, datasource_name, metadata_info, input_type, target_names, target_names_mapping, x_train, y_train, feature_names, feature_ids, explain_ai, x_test, y_test, kyd, kyd_score, **kwargs)\u001b[0m\n\u001b[1;32m    244\u001b[0m         \u001b[0mtar_file\u001b[0m\u001b[0;34m=\u001b[0m\u001b[0martifacts_tar\u001b[0m\u001b[0;34m,\u001b[0m\u001b[0;34m\u001b[0m\u001b[0m\n\u001b[1;32m    245\u001b[0m         \u001b[0mtags\u001b[0m\u001b[0;34m=\u001b[0m\u001b[0mtags\u001b[0m\u001b[0;34m,\u001b[0m\u001b[0;34m\u001b[0m\u001b[0m\n\u001b[0;32m--> 246\u001b[0;31m         \u001b[0mmodel_info\u001b[0m\u001b[0;34m=\u001b[0m\u001b[0mmodel_info\u001b[0m\u001b[0;34m,\u001b[0m\u001b[0;34m\u001b[0m\u001b[0m\n\u001b[0m\u001b[1;32m    247\u001b[0m     )\n\u001b[1;32m    248\u001b[0m     \u001b[0m_ml_model_id\u001b[0m \u001b[0;34m=\u001b[0m \u001b[0mml_model\u001b[0m\u001b[0;34m[\u001b[0m\u001b[0;34m\"id\"\u001b[0m\u001b[0;34m]\u001b[0m\u001b[0;34m\u001b[0m\u001b[0m\n",
      "\u001b[0;32m~/.local/lib/python3.6/site-packages/mosaicml/api.py\u001b[0m in \u001b[0;36mregister\u001b[0;34m(name, description, flavour, schema, metadata_info, init_script, input_type, target_names, datasource_name, model_class, tar_file, model_display, source, tags, model_info, model_list)\u001b[0m\n\u001b[1;32m    362\u001b[0m     \u001b[0mresponse\u001b[0m \u001b[0;34m=\u001b[0m \u001b[0mrequests\u001b[0m\u001b[0;34m.\u001b[0m\u001b[0mpost\u001b[0m\u001b[0;34m(\u001b[0m\u001b[0murl\u001b[0m\u001b[0;34m,\u001b[0m \u001b[0mdata\u001b[0m\u001b[0;34m=\u001b[0m\u001b[0mmultipart_data\u001b[0m\u001b[0;34m,\u001b[0m \u001b[0mheaders\u001b[0m\u001b[0;34m=\u001b[0m\u001b[0mheaders\u001b[0m\u001b[0;34m)\u001b[0m\u001b[0;34m\u001b[0m\u001b[0m\n\u001b[1;32m    363\u001b[0m     \u001b[0;32mif\u001b[0m \u001b[0mresponse\u001b[0m\u001b[0;34m.\u001b[0m\u001b[0mstatus_code\u001b[0m \u001b[0;34m!=\u001b[0m \u001b[0;36m200\u001b[0m\u001b[0;34m:\u001b[0m\u001b[0;34m\u001b[0m\u001b[0m\n\u001b[0;32m--> 364\u001b[0;31m         \u001b[0;32mraise\u001b[0m \u001b[0mException\u001b[0m\u001b[0;34m(\u001b[0m\u001b[0mresponse\u001b[0m\u001b[0;34m.\u001b[0m\u001b[0mtext\u001b[0m\u001b[0;34m)\u001b[0m\u001b[0;34m\u001b[0m\u001b[0m\n\u001b[0m\u001b[1;32m    365\u001b[0m     \u001b[0;32mreturn\u001b[0m \u001b[0mresponse\u001b[0m\u001b[0;34m.\u001b[0m\u001b[0mjson\u001b[0m\u001b[0;34m(\u001b[0m\u001b[0;34m)\u001b[0m\u001b[0;34m\u001b[0m\u001b[0m\n\u001b[1;32m    366\u001b[0m \u001b[0;34m\u001b[0m\u001b[0m\n",
      "\u001b[0;31mException\u001b[0m: Unable to register model. Please try after some time"
     ]
    }
   ],
   "source": [
    "from sklearn.datasets import load_boston\n",
    "import sklearn.ensemble\n",
    "import numpy as np\n",
    "from sklearn.model_selection import train_test_split\n",
    "from mosaicml import *\n",
    "from mosaicml.constants import MLModelFlavours\n",
    "\n",
    "import pandas as pd\n",
    "from pandas import read_csv, DataFrame\n",
    "from sklearn.preprocessing import Imputer\n",
    "from sklearn.ensemble import GradientBoostingRegressor\n",
    "import numpy as np\n",
    "from mosaicml.api import graph\n",
    "\n",
    "# Importing the dataset\n",
    "boston = load_boston()\n",
    "\n",
    "# creating the model object\n",
    "rf = sklearn.ensemble.RandomForestRegressor(n_estimators=10)\n",
    "\n",
    "X = boston.data\n",
    "Y = boston.target\n",
    "\n",
    "Big_X, Big_Y = big_data(X, Y,1000)\n",
    "\n",
    "print(Big_X.shape)\n",
    "print(Big_Y.shape)\n",
    "\n",
    "train, test, labels_train, labels_test = train_test_split(Big_X, Big_Y, test_size=0.2, random_state=0)\n",
    "\n",
    "rf.fit(train, labels_train)\n",
    "\n",
    "\n",
    "# @scoring_func\n",
    "def score(model, request):\n",
    "    payload = request.json[\"payload\"]\n",
    "    data_list = payload\n",
    "    data_array = np.asarray(data_list)\n",
    "    try:\n",
    "        prediction = model.predict(data_array)\n",
    "    except:\n",
    "        prediction = model.predict(data_array.reshape(1, -1))\n",
    "    return prediction.tolist()\n",
    "\n",
    "# to verify if score func works\n",
    "import requests\n",
    "req = requests.Request()\n",
    "req.json = {\"payload\":train[10].tolist()}\n",
    "\n",
    "score(rf,req)\n",
    "\n",
    "from datetime import datetime\n",
    "st = datetime.utcnow()\n",
    "print(st,\"\\n\")\n",
    "\n",
    "y_pred=rf.predict(test)\n",
    "\n",
    "register_model(rf,\n",
    "                score,\n",
    "                \"boston_regression_1k\",\n",
    "                \"boston_regression_1k\",\n",
    "                MLModelFlavours.sklearn,\n",
    "                init_script=\"mkdir abc \\\\n cd abc \\\\n touch abc.txt\",\n",
    "                input_type=\"json\",\n",
    "                explain_ai=True,\n",
    "               x_train=train,\n",
    "               y_train=labels_train, \n",
    "               y_pred=y_pred,\n",
    "               y_true=labels_test,\n",
    "               features=list(boston.feature_names),\n",
    "               original_features=list(boston.feature_names),\n",
    "               model_type=\"regression\",\n",
    "               feature_names=list(boston.feature_names), \n",
    "               feature_ids=list(boston.feature_names), \n",
    "               target_names=['Housing_Price']\n",
    "              )"
   ]
  },
  {
   "cell_type": "code",
   "execution_count": null,
   "metadata": {
    "ExecuteTime": {
     "start_time": "2021-03-02T09:36:58.781Z"
    }
   },
   "outputs": [],
   "source": [
    "\n",
    "en = datetime.utcnow()\n",
    "print(en,\"\\n\")\n",
    "diff = en - st\n",
    "print(str(diff))\n",
    "\n"
   ]
  }
 ],
 "metadata": {
  "hide_input": false,
  "kernelspec": {
   "display_name": "Python 3",
   "language": "python",
   "name": "python3"
  },
  "language_info": {
   "codemirror_mode": {
    "name": "ipython",
    "version": 3
   },
   "file_extension": ".py",
   "mimetype": "text/x-python",
   "name": "python",
   "nbconvert_exporter": "python",
   "pygments_lexer": "ipython3",
   "version": "3.6.2"
  },
  "toc": {
   "base_numbering": 1,
   "nav_menu": {},
   "number_sections": true,
   "sideBar": true,
   "skip_h1_title": false,
   "title_cell": "Table of Contents",
   "title_sidebar": "Contents",
   "toc_cell": false,
   "toc_position": {},
   "toc_section_display": true,
   "toc_window_display": false
  },
  "varInspector": {
   "cols": {
    "lenName": 16,
    "lenType": 16,
    "lenVar": 40
   },
   "kernels_config": {
    "python": {
     "delete_cmd_postfix": "",
     "delete_cmd_prefix": "del ",
     "library": "var_list.py",
     "varRefreshCmd": "print(var_dic_list())"
    },
    "r": {
     "delete_cmd_postfix": ") ",
     "delete_cmd_prefix": "rm(",
     "library": "var_list.r",
     "varRefreshCmd": "cat(var_dic_list()) "
    }
   },
   "types_to_exclude": [
    "module",
    "function",
    "builtin_function_or_method",
    "instance",
    "_Feature"
   ],
   "window_display": false
  }
 },
 "nbformat": 4,
 "nbformat_minor": 4
}
