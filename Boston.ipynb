{
 "cells": [
  {
   "cell_type": "code",
   "execution_count": 1,
   "metadata": {
    "ExecuteTime": {
     "end_time": "2021-02-22T12:19:09.923829Z",
     "start_time": "2021-02-22T12:19:09.917501Z"
    }
   },
   "outputs": [],
   "source": [
    "def big_data(X,y,reqlen):\n",
    "    Big_X = np.array(X)\n",
    "    Big_Y = np.array(y)\n",
    "    while len(Big_X) < reqlen:\n",
    "        Big_X = np.concatenate((Big_X, Big_X))\n",
    "        Big_Y = np.concatenate((Big_Y, Big_Y))\n",
    "    print(Big_X.shape)\n",
    "    indices = np.random.choice(Big_X.shape[0], reqlen, replace=False)\n",
    "    new_X = Big_X[indices]\n",
    "    new_Y = Big_Y[indices]\n",
    "    return new_X, new_Y"
   ]
  },
  {
   "cell_type": "markdown",
   "metadata": {},
   "source": [
    "# 1000 samples"
   ]
  },
  {
   "cell_type": "code",
   "execution_count": 4,
   "metadata": {
    "ExecuteTime": {
     "end_time": "2021-02-22T12:23:12.718087Z",
     "start_time": "2021-02-22T12:22:42.365637Z"
    }
   },
   "outputs": [
    {
     "name": "stdout",
     "output_type": "stream",
     "text": [
      "Calculating build time metrics\n",
      "\n",
      "Progress: ██████████████████████████████████████████████████████████████████████ 100.0%\n"
     ]
    },
    {
     "name": "stderr",
     "output_type": "stream",
     "text": [
      "2021-02-22 12:22:50,395 - skater.core.explanations - WARNING - Progress bars slow down runs by 10-20%. For slightly \n",
      "faster runs, do progressbar=False\n",
      "2021-02-22 12:22:50,398 - skater.core.explanations - WARNING - Multiprocessing failed, going single process\n"
     ]
    },
    {
     "name": "stdout",
     "output_type": "stream",
     "text": [
      "[30/30] grid cells ████████████████████ Time elapsed: 1 seconds"
     ]
    },
    {
     "name": "stderr",
     "output_type": "stream",
     "text": [
      "2021-02-22 12:22:52,213 - skater.core.explanations - WARNING - Progress bars slow down runs by 10-20%. For slightly \n",
      "faster runs, do progressbar=False\n",
      "2021-02-22 12:22:52,216 - skater.core.explanations - WARNING - Multiprocessing failed, going single process\n"
     ]
    },
    {
     "name": "stdout",
     "output_type": "stream",
     "text": [
      "[25/25] grid cells ████████████████████ Time elapsed: 1 seconds"
     ]
    },
    {
     "name": "stderr",
     "output_type": "stream",
     "text": [
      "2021-02-22 12:22:53,975 - skater.core.explanations - WARNING - Progress bars slow down runs by 10-20%. For slightly \n",
      "faster runs, do progressbar=False\n",
      "2021-02-22 12:22:53,978 - skater.core.explanations - WARNING - Multiprocessing failed, going single process\n"
     ]
    },
    {
     "name": "stdout",
     "output_type": "stream",
     "text": [
      "[22/22] grid cells ████████████████████ Time elapsed: 1 seconds"
     ]
    },
    {
     "name": "stderr",
     "output_type": "stream",
     "text": [
      "2021-02-22 12:22:55,531 - skater.core.explanations - WARNING - Progress bars slow down runs by 10-20%. For slightly \n",
      "faster runs, do progressbar=False\n",
      "2021-02-22 12:22:55,534 - skater.core.explanations - WARNING - Multiprocessing failed, going single process\n"
     ]
    },
    {
     "name": "stdout",
     "output_type": "stream",
     "text": [
      "[2/2] grid cells ████████████████████ Time elapsed: 0 seconds"
     ]
    },
    {
     "name": "stderr",
     "output_type": "stream",
     "text": [
      "2021-02-22 12:22:56,091 - skater.core.explanations - WARNING - Progress bars slow down runs by 10-20%. For slightly \n",
      "faster runs, do progressbar=False\n",
      "2021-02-22 12:22:56,094 - skater.core.explanations - WARNING - Multiprocessing failed, going single process\n"
     ]
    },
    {
     "name": "stdout",
     "output_type": "stream",
     "text": [
      "[30/30] grid cells ████████████████████ Time elapsed: 1 seconds"
     ]
    },
    {
     "name": "stderr",
     "output_type": "stream",
     "text": [
      "2021-02-22 12:22:57,830 - skater.core.explanations - WARNING - Progress bars slow down runs by 10-20%. For slightly \n",
      "faster runs, do progressbar=False\n",
      "2021-02-22 12:22:57,833 - skater.core.explanations - WARNING - Multiprocessing failed, going single process\n"
     ]
    },
    {
     "name": "stdout",
     "output_type": "stream",
     "text": [
      "[30/30] grid cells ████████████████████ Time elapsed: 1 seconds"
     ]
    },
    {
     "name": "stderr",
     "output_type": "stream",
     "text": [
      "2021-02-22 12:22:59,693 - skater.core.explanations - WARNING - Progress bars slow down runs by 10-20%. For slightly \n",
      "faster runs, do progressbar=False\n",
      "2021-02-22 12:22:59,695 - skater.core.explanations - WARNING - Multiprocessing failed, going single process\n"
     ]
    },
    {
     "name": "stdout",
     "output_type": "stream",
     "text": [
      "[29/29] grid cells ████████████████████ Time elapsed: 1 seconds"
     ]
    },
    {
     "name": "stderr",
     "output_type": "stream",
     "text": [
      "2021-02-22 12:23:01,590 - skater.core.explanations - WARNING - Progress bars slow down runs by 10-20%. For slightly \n",
      "faster runs, do progressbar=False\n",
      "2021-02-22 12:23:01,594 - skater.core.explanations - WARNING - Multiprocessing failed, going single process\n"
     ]
    },
    {
     "name": "stdout",
     "output_type": "stream",
     "text": [
      "[30/30] grid cells ████████████████████ Time elapsed: 1 seconds"
     ]
    },
    {
     "name": "stderr",
     "output_type": "stream",
     "text": [
      "2021-02-22 12:23:03,451 - skater.core.explanations - WARNING - Progress bars slow down runs by 10-20%. For slightly \n",
      "faster runs, do progressbar=False\n",
      "2021-02-22 12:23:03,456 - skater.core.explanations - WARNING - Multiprocessing failed, going single process\n"
     ]
    },
    {
     "name": "stdout",
     "output_type": "stream",
     "text": [
      "[9/9] grid cells ████████████████████ Time elapsed: 0 seconds"
     ]
    },
    {
     "name": "stderr",
     "output_type": "stream",
     "text": [
      "2021-02-22 12:23:04,380 - skater.core.explanations - WARNING - Progress bars slow down runs by 10-20%. For slightly \n",
      "faster runs, do progressbar=False\n",
      "2021-02-22 12:23:04,383 - skater.core.explanations - WARNING - Multiprocessing failed, going single process\n"
     ]
    },
    {
     "name": "stdout",
     "output_type": "stream",
     "text": [
      "[21/21] grid cells ████████████████████ Time elapsed: 0 seconds"
     ]
    },
    {
     "name": "stderr",
     "output_type": "stream",
     "text": [
      "2021-02-22 12:23:05,823 - skater.core.explanations - WARNING - Progress bars slow down runs by 10-20%. For slightly \n",
      "faster runs, do progressbar=False\n",
      "2021-02-22 12:23:05,826 - skater.core.explanations - WARNING - Multiprocessing failed, going single process\n"
     ]
    },
    {
     "name": "stdout",
     "output_type": "stream",
     "text": [
      "[18/18] grid cells ████████████████████ Time elapsed: 0 seconds"
     ]
    },
    {
     "name": "stderr",
     "output_type": "stream",
     "text": [
      "2021-02-22 12:23:07,173 - skater.core.explanations - WARNING - Progress bars slow down runs by 10-20%. For slightly \n",
      "faster runs, do progressbar=False\n",
      "2021-02-22 12:23:07,176 - skater.core.explanations - WARNING - Multiprocessing failed, going single process\n"
     ]
    },
    {
     "name": "stdout",
     "output_type": "stream",
     "text": [
      "[24/24] grid cells ████████████████████ Time elapsed: 1 seconds"
     ]
    },
    {
     "name": "stderr",
     "output_type": "stream",
     "text": [
      "2021-02-22 12:23:08,713 - skater.core.explanations - WARNING - Progress bars slow down runs by 10-20%. For slightly \n",
      "faster runs, do progressbar=False\n",
      "2021-02-22 12:23:08,716 - skater.core.explanations - WARNING - Multiprocessing failed, going single process\n"
     ]
    },
    {
     "name": "stdout",
     "output_type": "stream",
     "text": [
      "[30/30] grid cells ████████████████████ Time elapsed: 1 seconds"
     ]
    },
    {
     "name": "stderr",
     "output_type": "stream",
     "text": [
      "2021-02-22 12:23:10,515 - skater.core.explanations - WARNING - Progress bars slow down runs by 10-20%. For slightly \n",
      "faster runs, do progress_bar=False\n",
      "2021-02-22 12:23:10,518 - skater.core.explanations - WARNING - Multiprocessing failed, going single process\n"
     ]
    },
    {
     "name": "stdout",
     "output_type": "stream",
     "text": [
      "[13/13] features ████████████████████ Time elapsed: 0 seconds"
     ]
    },
    {
     "name": "stderr",
     "output_type": "stream",
     "text": [
      "2021-02-22 12:23:11,869 - skater.core.global_interpretation.tree_surrogate - INFO - post pruning applied ...\n",
      "2021-02-22 12:23:11,883 - skater.core.global_interpretation.tree_surrogate - INFO - Scorer used MAE\n",
      "2021-02-22 12:23:11,885 - skater.core.global_interpretation.tree_surrogate - INFO - original score using base model 0.7039165444105703\n",
      "2021-02-22 12:23:11,935 - skater.core.global_interpretation.tree_surrogate - INFO - Summary: childrens of the following nodes are removed [34, 92]\n",
      "2021-02-22 12:23:11,940 - skater.core.global_interpretation.tree_surrogate - INFO - Done generating prediction using the surrogate, shape (800,)\n",
      "2021-02-22 12:23:11,943 - skater.core.global_interpretation.tree_surrogate - INFO - Done scoring, surrogate score 0.714; oracle score 0.506\n"
     ]
    },
    {
     "data": {
      "text/plain": [
       "{'created_by': 'mosaic.ai',\n",
       " 'created_on': '2021-02-22T12:22:44+00:00',\n",
       " 'deploymentstatus': False,\n",
       " 'description': 'boston_regression_HV',\n",
       " 'flavour': 'sklearn',\n",
       " 'id': 'cca31d3e-a3a6-4a73-af65-c6fd364356ab',\n",
       " 'last_modified_by': 'mosaic.ai',\n",
       " 'last_modified_on': '2021-02-22T12:22:44+00:00',\n",
       " 'model_display': True,\n",
       " 'name': 'boston_regression_HV',\n",
       " 'project_id': 'f2090c34-4280-40b0-9c02-6ca31ed4ad3a',\n",
       " 'source': '',\n",
       " 'tags': None,\n",
       " 'type': 'model',\n",
       " 'versions': [{'created_by': 'mosaic.ai',\n",
       "   'created_on': '2021-02-22T12:22:44+00:00',\n",
       "   'datasource_name': '',\n",
       "   'dependent_model': None,\n",
       "   'deploy_info': None,\n",
       "   'deployments': [],\n",
       "   'description': None,\n",
       "   'docker_image_url': 'registry.lti-aiq.in:443/mosaic-ai-logistics/mosaic-ai-serving:1.0.0-07122021',\n",
       "   'gpu_docker_image_url': 'registry.lti-aiq.in:443/mosaic-ai-logistics/mosaic-ai-serving:gpu-1.0.0-07122021',\n",
       "   'id': 'a1d27b24-7e6c-4906-ac21-0eb79da8799e',\n",
       "   'init_script': '\"pip install --user absl-py==0.11.0\\\\n pip install --user alembic==1.5.4\\\\n pip install --user alibi-detect==0.4.4\\\\n pip install --user argon2-cffi==20.1.0\\\\n pip install --user astor==0.8.1\\\\n pip install --user astroid==2.3.3\\\\n pip install --user astunparse==1.6.3\\\\n pip install --user async-generator==1.10\\\\n pip install --user attrs==20.3.0\\\\n pip install --user backcall==0.2.0\\\\n pip install --user beautifulsoup4==4.9.3\\\\n pip install --user bleach==3.2.1\\\\n pip install --user blis==0.4.1\\\\n pip install --user bokeh==2.1.1\\\\n pip install --user bs4==0.0.1\\\\n pip install --user cached-property==1.5.2\\\\n pip install --user cachetools==4.2.1\\\\n pip install --user category-encoders==2.2.2\\\\n pip install --user certifi==2020.12.5\\\\n pip install --user cffi==1.14.4\\\\n pip install --user chardet==3.0.4\\\\n pip install --user click==7.1.2\\\\n pip install --user cloudpickle==1.6.0\\\\n pip install --user colorama==0.4.4\\\\n pip install --user colorcet==2.0.6\\\\n pip install --user commonmark==0.9.1\\\\n pip install --user creme==0.6.1\\\\n pip install --user cycler==0.10.0\\\\n pip install --user cymem==2.0.5\\\\n pip install --user dask==2021.2.0\\\\n pip install --user dataclasses==0.8\\\\n pip install --user deap==1.3.1\\\\n pip install --user decorator==4.4.2\\\\n pip install --user defusedxml==0.6.0\\\\n pip install --user dill==0.3.3\\\\n pip install --user dm-tree==0.1.5\\\\n pip install --user entrypoints==0.3\\\\n pip install --user filelock==3.0.12\\\\n pip install --user flasgger==0.9.3\\\\n pip install --user Flask==1.1.1\\\\n pip install --user Flask-Cors==3.0.8\\\\n pip install --user Flask-SQLAlchemy==2.4.4\\\\n pip install --user flatbuffers==1.12\\\\n pip install --user fonttools==4.19.1\\\\n pip install --user future==0.18.2\\\\n pip install --user gast==0.4.0\\\\n pip install --user gitdb2==2.0.6\\\\n pip install --user GitPython==3.0.4\\\\n pip install --user google-auth==1.26.0\\\\n pip install --user google-auth-oauthlib==0.4.2\\\\n pip install --user google-pasta==0.2.0\\\\n pip install --user grpcio==1.32.0\\\\n pip install --user gunicorn==19.9.0\\\\n pip install --user h5py==2.10.0\\\\n pip install --user holoviews==1.14.1\\\\n pip install --user idna==2.8\\\\n pip install --user imageio==2.9.0\\\\n pip install --user importlib-metadata==3.3.0\\\\n pip install --user ipykernel==5.4.2\\\\n pip install --user ipyplot==1.1.0\\\\n pip install --user ipython==7.16.1\\\\n pip install --user ipython-genutils==0.2.0\\\\n pip install --user ipywidgets==7.6.3\\\\n pip install --user isort==4.3.21\\\\n pip install --user itsdangerous==1.1.0\\\\n pip install --user jedi==0.18.0\\\\n pip install --user Jinja2==2.11.2\\\\n pip install --user joblib==1.0.1\\\\n pip install --user jsonpickle==1.2\\\\n pip install --user jsonschema==2.6.0\\\\n pip install --user jupyter==1.0.0\\\\n pip install --user jupyter-client==6.1.7\\\\n pip install --user jupyter-console==6.2.0\\\\n pip install --user jupyter-contrib-core==0.3.3\\\\n pip install --user jupyter-contrib-nbextensions==0.5.1\\\\n pip install --user jupyter-core==4.7.0\\\\n pip install --user jupyter-highlight-selected-word==0.2.0\\\\n pip install --user jupyter-latex-envs==1.4.6\\\\n pip install --user jupyter-nbextensions-configurator==0.4.1\\\\n pip install --user jupyterhub==0.9.4\\\\n pip install --user jupyterlab-pygments==0.1.2\\\\n pip install --user jupyterlab-widgets==1.0.0\\\\n pip install --user Keras==2.2.4\\\\n pip install --user Keras-Applications==1.0.8\\\\n pip install --user Keras-Preprocessing==1.1.2\\\\n pip install --user kiwisolver==1.3.1\\\\n pip install --user kubernetes==9.0.0\\\\n pip install --user kyd==0.1.8\\\\n pip install --user lazy-object-proxy==1.4.3\\\\n pip install --user lime==0.2.0.1\\\\n pip install --user lxml==4.6.2\\\\n pip install --user Mako==1.1.4\\\\n pip install --user Markdown==3.3.3\\\\n pip install --user MarkupSafe==1.1.1\\\\n pip install --user matplotlib==3.1.1\\\\n pip install --user mccabe==0.6.1\\\\n pip install --user minio==4.0.18\\\\n pip install --user mistune==0.8.4\\\\n pip install --user mmh3==2.5.1\\\\n pip install --user multiprocess==0.70.11.1\\\\n pip install --user murmurhash==1.0.5\\\\n pip install --user mysql-connector-python==8.0.17\\\\n pip install --user mysql-connector-python-rf==2.2.2\\\\n pip install --user nbclient==0.5.1\\\\n pip install --user nbconvert==6.0.7\\\\n pip install --user nbformat==5.0.8\\\\n pip install --user nest-asyncio==1.4.3\\\\n pip install --user networkx==2.5\\\\n pip install --user nltk==3.5\\\\n pip install --user notebook==5.7.0\\\\n pip install --user numpy==1.16.5\\\\n pip install --user oauthlib==3.1.0\\\\n pip install --user opencv-python==4.2.0.34\\\\n pip install --user opt-einsum==3.3.0\\\\n pip install --user packaging==20.8\\\\n pip install --user pamela==1.0.0\\\\n pip install --user pandas==0.25.1\\\\n pip install --user pandocfilters==1.4.3\\\\n pip install --user panel==0.10.3\\\\n pip install --user param==1.10.1\\\\n pip install --user parso==0.8.1\\\\n pip install --user patsy==0.5.1\\\\n pip install --user pexpect==4.8.0\\\\n pip install --user pickleshare==0.7.5\\\\n pip install --user Pillow==8.1.0\\\\n pip install --user plac==1.1.3\\\\n pip install --user plotly==4.14.3\\\\n pip install --user preshed==3.0.5\\\\n pip install --user prometheus-client==0.9.0\\\\n pip install --user prompt-toolkit==3.0.9\\\\n pip install --user protobuf==3.14.0\\\\n pip install --user ptyprocess==0.7.0\\\\n pip install --user py4j==0.10.7\\\\n pip install --user pyasn1==0.4.8\\\\n pip install --user pyasn1-modules==0.2.8\\\\n pip install --user pycparser==2.20\\\\n pip install --user pyct==0.4.8\\\\n pip install --user pydotplus==2.0.2\\\\n pip install --user Pygments==2.7.3\\\\n pip install --user PyJWT==1.7.1\\\\n pip install --user pylint==2.4.4\\\\n pip install --user pyparsing==2.4.7\\\\n pip install --user pyrsistent==0.17.3\\\\n pip install --user pyspark==2.4.6\\\\n pip install --user python-dateutil==2.8.1\\\\n pip install --user python-dummy==0.1.0\\\\n pip install --user python-editor==1.0.4\\\\n pip install --user python-oauth2==1.1.1\\\\n pip install --user pytz==2021.1\\\\n pip install --user pyviz-comms==2.0.1\\\\n pip install --user PyWavelets==1.1.1\\\\n pip install --user PyYAML==5.1.2\\\\n pip install --user pyzmq==20.0.0\\\\n pip install --user qgrid==1.3.1\\\\n pip install --user qtconsole==5.0.1\\\\n pip install --user QtPy==1.9.0\\\\n pip install --user regex==2020.11.13\\\\n pip install --user requests==2.22.0\\\\n pip install --user requests-oauthlib==1.3.0\\\\n pip install --user requests-toolbelt==0.9.1\\\\n pip install --user retrying==1.3.3\\\\n pip install --user rich==9.10.0\\\\n pip install --user rsa==4.7\\\\n pip install --user sacremoses==0.0.43\\\\n pip install --user scikit-image==0.15.0\\\\n pip install --user scikit-learn==0.20.3\\\\n pip install --user scipy==1.5.4\\\\n pip install --user Send2Trash==1.5.0\\\\n pip install --user setuptools==51.1.1\\\\n pip install --user shortuuid==1.0.1\\\\n pip install --user simplejson==3.16.0\\\\n pip install --user six==1.15.0\\\\n pip install --user skater==1.1.2b1\\\\n pip install --user sklearn==0.0\\\\n pip install --user smmap==4.0.0\\\\n pip install --user smmap2==3.0.1\\\\n pip install --user socketIO-client==0.7.2\\\\n pip install --user soupsieve==2.2\\\\n pip install --user spacy==2.2.2\\\\n pip install --user SQLAlchemy==1.3.22\\\\n pip install --user srsly==1.0.5\\\\n pip install --user statsmodels==0.12.2\\\\n pip install --user stopit==1.1.2\\\\n pip install --user tabulate==0.8.7\\\\n pip install --user tensorboard==2.4.1\\\\n pip install --user tensorboard-plugin-wit==1.8.0\\\\n pip install --user tensorflow==2.4.1\\\\n pip install --user tensorflow-estimator==2.4.0\\\\n pip install --user tensorflow-probability==0.12.1\\\\n pip install --user termcolor==1.1.0\\\\n pip install --user terminado==0.9.2\\\\n pip install --user testpath==0.4.4\\\\n pip install --user thinc==7.3.1\\\\n pip install --user tokenizers==0.10.1\\\\n pip install --user toolz==0.11.1\\\\n pip install --user torch==1.2.0\\\\n pip install --user torchvision==0.4.0\\\\n pip install --user tornado==5.1.1\\\\n pip install --user tqdm==4.56.2\\\\n pip install --user traitlets==4.3.3\\\\n pip install --user transformers==4.3.2\\\\n pip install --user typed-ast==1.4.2\\\\n pip install --user typing-extensions==3.7.4.3\\\\n pip install --user update-checker==0.18.0\\\\n pip install --user urllib3==1.25.11\\\\n pip install --user wasabi==0.8.2\\\\n pip install --user wcwidth==0.2.5\\\\n pip install --user webencodings==0.5.1\\\\n pip install --user websocket-client==0.57.0\\\\n pip install --user Werkzeug==1.0.1\\\\n pip install --user wheel==0.36.2\\\\n pip install --user widgetsnbextension==3.5.1\\\\n pip install --user wordcloud==1.8.1\\\\n pip install --user wrapt==1.12.1\\\\n pip install --user xgboost==0.90\\\\n pip install --user zipp==3.4.0\\\\n \\\\nmkdir abc \\\\n cd abc \\\\n touch abc.txt\"',\n",
       "   'input_type': 'json',\n",
       "   'last_modified_by': 'mosaic.ai',\n",
       "   'last_modified_on': '2021-02-22T12:22:50+00:00',\n",
       "   'metadata_info': None,\n",
       "   'ml_model_id': 'cca31d3e-a3a6-4a73-af65-c6fd364356ab',\n",
       "   'model_class': {'base_estimator': \"DecisionTreeRegressor(criterion='mse', max_depth=None, max_features=None,\\n           max_leaf_nodes=None, min_impurity_decrease=0.0,\\n           min_impurity_split=None, min_samples_leaf=1,\\n           min_samples_split=2, min_weight_fraction_leaf=0.0,\\n           presort=False, random_state=None, splitter='best')\",\n",
       "    'base_estimator_': \"DecisionTreeRegressor(criterion='mse', max_depth=None, max_features=None,\\n           max_leaf_nodes=None, min_impurity_decrease=0.0,\\n           min_impurity_split=None, min_samples_leaf=1,\\n           min_samples_split=2, min_weight_fraction_leaf=0.0,\\n           presort=False, random_state=None, splitter='best')\",\n",
       "    'bootstrap': True,\n",
       "    'class': 'sklearn.ensemble.forest.RandomForestRegressor',\n",
       "    'class_weight': None,\n",
       "    'criterion': 'mse',\n",
       "    'estimator_params': ['criterion',\n",
       "     'max_depth',\n",
       "     'min_samples_split',\n",
       "     'min_samples_leaf',\n",
       "     'min_weight_fraction_leaf',\n",
       "     'max_features',\n",
       "     'max_leaf_nodes',\n",
       "     'min_impurity_decrease',\n",
       "     'min_impurity_split',\n",
       "     'random_state'],\n",
       "    'estimators_': [\"DecisionTreeRegressor(criterion='mse', max_depth=None, max_features='auto',\\n           max_leaf_nodes=None, min_impurity_decrease=0.0,\\n           min_impurity_split=None, min_samples_leaf=1,\\n           min_samples_split=2, min_weight_fraction_leaf=0.0,\\n           presort=False, random_state=2121353808, splitter='best')\",\n",
       "     \"DecisionTreeRegressor(criterion='mse', max_depth=None, max_features='auto',\\n           max_leaf_nodes=None, min_impurity_decrease=0.0,\\n           min_impurity_split=None, min_samples_leaf=1,\\n           min_samples_split=2, min_weight_fraction_leaf=0.0,\\n           presort=False, random_state=445297669, splitter='best')\",\n",
       "     \"DecisionTreeRegressor(criterion='mse', max_depth=None, max_features='auto',\\n           max_leaf_nodes=None, min_impurity_decrease=0.0,\\n           min_impurity_split=None, min_samples_leaf=1,\\n           min_samples_split=2, min_weight_fraction_leaf=0.0,\\n           presort=False, random_state=483403596, splitter='best')\",\n",
       "     \"DecisionTreeRegressor(criterion='mse', max_depth=None, max_features='auto',\\n           max_leaf_nodes=None, min_impurity_decrease=0.0,\\n           min_impurity_split=None, min_samples_leaf=1,\\n           min_samples_split=2, min_weight_fraction_leaf=0.0,\\n           presort=False, random_state=883873935, splitter='best')\",\n",
       "     \"DecisionTreeRegressor(criterion='mse', max_depth=None, max_features='auto',\\n           max_leaf_nodes=None, min_impurity_decrease=0.0,\\n           min_impurity_split=None, min_samples_leaf=1,\\n           min_samples_split=2, min_weight_fraction_leaf=0.0,\\n           presort=False, random_state=1274777573, splitter='best')\",\n",
       "     \"DecisionTreeRegressor(criterion='mse', max_depth=None, max_features='auto',\\n           max_leaf_nodes=None, min_impurity_decrease=0.0,\\n           min_impurity_split=None, min_samples_leaf=1,\\n           min_samples_split=2, min_weight_fraction_leaf=0.0,\\n           presort=False, random_state=96998957, splitter='best')\",\n",
       "     \"DecisionTreeRegressor(criterion='mse', max_depth=None, max_features='auto',\\n           max_leaf_nodes=None, min_impurity_decrease=0.0,\\n           min_impurity_split=None, min_samples_leaf=1,\\n           min_samples_split=2, min_weight_fraction_leaf=0.0,\\n           presort=False, random_state=205991169, splitter='best')\",\n",
       "     \"DecisionTreeRegressor(criterion='mse', max_depth=None, max_features='auto',\\n           max_leaf_nodes=None, min_impurity_decrease=0.0,\\n           min_impurity_split=None, min_samples_leaf=1,\\n           min_samples_split=2, min_weight_fraction_leaf=0.0,\\n           presort=False, random_state=96663933, splitter='best')\",\n",
       "     \"DecisionTreeRegressor(criterion='mse', max_depth=None, max_features='auto',\\n           max_leaf_nodes=None, min_impurity_decrease=0.0,\\n           min_impurity_split=None, min_samples_leaf=1,\\n           min_samples_split=2, min_weight_fraction_leaf=0.0,\\n           presort=False, random_state=790653366, splitter='best')\",\n",
       "     \"DecisionTreeRegressor(criterion='mse', max_depth=None, max_features='auto',\\n           max_leaf_nodes=None, min_impurity_decrease=0.0,\\n           min_impurity_split=None, min_samples_leaf=1,\\n           min_samples_split=2, min_weight_fraction_leaf=0.0,\\n           presort=False, random_state=1259290969, splitter='best')\"],\n",
       "    'max_depth': None,\n",
       "    'max_features': 'auto',\n",
       "    'max_leaf_nodes': None,\n",
       "    'min_impurity_decrease': 0,\n",
       "    'min_impurity_split': None,\n",
       "    'min_samples_leaf': 1,\n",
       "    'min_samples_split': 2,\n",
       "    'min_weight_fraction_leaf': 0,\n",
       "    'n_estimators': 10,\n",
       "    'n_features_': 13,\n",
       "    'n_jobs': None,\n",
       "    'n_outputs_': 1,\n",
       "    'oob_score': False,\n",
       "    'random_state': None,\n",
       "    'verbose': 0,\n",
       "    'warm_start': False},\n",
       "   'model_info': {'deep_learning_model': False,\n",
       "    'feature_names': ['CRIM',\n",
       "     'ZN',\n",
       "     'INDUS',\n",
       "     'CHAS',\n",
       "     'NOX',\n",
       "     'RM',\n",
       "     'AGE',\n",
       "     'DIS',\n",
       "     'RAD',\n",
       "     'TAX',\n",
       "     'PTRATIO',\n",
       "     'B',\n",
       "     'LSTAT'],\n",
       "    'min_max_features': [{'data_type': 'numerical',\n",
       "      'feature_name': 'CRIM',\n",
       "      'max': 88,\n",
       "      'min': 0},\n",
       "     {'data_type': 'numerical', 'feature_name': 'ZN', 'max': 100, 'min': 0},\n",
       "     {'data_type': 'numerical', 'feature_name': 'INDUS', 'max': 27, 'min': 0},\n",
       "     {'data_type': 'numerical', 'feature_name': 'CHAS', 'max': 1, 'min': 0},\n",
       "     {'data_type': 'numerical', 'feature_name': 'NOX', 'max': 0, 'min': 0},\n",
       "     {'data_type': 'numerical', 'feature_name': 'RM', 'max': 8, 'min': 3},\n",
       "     {'data_type': 'numerical', 'feature_name': 'AGE', 'max': 100, 'min': 2},\n",
       "     {'data_type': 'numerical', 'feature_name': 'DIS', 'max': 12, 'min': 1},\n",
       "     {'data_type': 'numerical', 'feature_name': 'RAD', 'max': 24, 'min': 1},\n",
       "     {'data_type': 'numerical', 'feature_name': 'TAX', 'max': 711, 'min': 187},\n",
       "     {'data_type': 'numerical',\n",
       "      'feature_name': 'PTRATIO',\n",
       "      'max': 22,\n",
       "      'min': 12},\n",
       "     {'data_type': 'numerical', 'feature_name': 'B', 'max': 396, 'min': 0},\n",
       "     {'data_type': 'numerical', 'feature_name': 'LSTAT', 'max': 37, 'min': 1}],\n",
       "    'mode': 'regression',\n",
       "    'number_of_features': 13,\n",
       "    'target_names': ['Housing_Price'],\n",
       "    'temp_dir': ''},\n",
       "   'object_url': 'cca31d3e-a3a6-4a73-af65-c6fd364356ab/a1d27b24-7e6c-4906-ac21-0eb79da8799e/ml_model.tar.gz',\n",
       "   'profiling': [],\n",
       "   'schema': {},\n",
       "   'status': 'active',\n",
       "   'target_names': {'target': ['Housing_Price']},\n",
       "   'version_no': 1,\n",
       "   'detailed_matrix': '{\"tag\": \"detailed_matrix\", \"model_metric_value\": {\"Explained Variance Score\": 0.9679771782851199, \"Mean Absolute Error\": 1.1100499999999998, \"Mean Absolute Percentage Error\": 5.758268205348182, \"Mean Squared Error\": 2.5809724999999997, \"Root Mean Square Error\": 1.6065405379261364, \"Root Mean Squared Logarithmic Error\": 0.07714747063422987, \"R2 score\": 0.9679063912594109}}'}]}"
      ]
     },
     "execution_count": 4,
     "metadata": {},
     "output_type": "execute_result"
    }
   ],
   "source": [
    "from sklearn.datasets import load_boston\n",
    "import sklearn.ensemble\n",
    "import numpy as np\n",
    "from sklearn.model_selection import train_test_split\n",
    "from mosaicml import *\n",
    "from mosaicml.constants import MLModelFlavours\n",
    "\n",
    "import pandas as pd\n",
    "from pandas import read_csv, DataFrame\n",
    "from sklearn.preprocessing import Imputer\n",
    "from sklearn.ensemble import GradientBoostingRegressor\n",
    "import numpy as np\n",
    "from mosaicml.api import graph\n",
    "\n",
    "# Importing the dataset\n",
    "boston = load_boston()\n",
    "\n",
    "# creating the model object\n",
    "rf = sklearn.ensemble.RandomForestRegressor(n_estimators=10)\n",
    "\n",
    "X = boston.data\n",
    "Y = boston.target\n",
    "\n",
    "Big_X, Big_Y = big_data(X, Y,1000)\n",
    "\n",
    "print(Big_X.shape)\n",
    "print(Big_Y.shape)\n",
    "\n",
    "train, test, labels_train, labels_test = train_test_split(Big_X, Big_Y, test_size=0.2, random_state=0)\n",
    "\n",
    "rf.fit(train, labels_train)\n",
    "\n",
    "\n",
    "# @scoring_func\n",
    "def score(model, request):\n",
    "    payload = request.json[\"payload\"]\n",
    "    data_list = payload\n",
    "    data_array = np.asarray(data_list)\n",
    "    try:\n",
    "        prediction = model.predict(data_array)\n",
    "    except:\n",
    "        prediction = model.predict(data_array.reshape(1, -1))\n",
    "    return prediction.tolist()\n",
    "\n",
    "# to verify if score func works\n",
    "import requests\n",
    "req = requests.Request()\n",
    "req.json = {\"payload\":train[10].tolist()}\n",
    "\n",
    "score(rf,req)\n",
    "\n",
    "from datetime import datetime\n",
    "st = datetime.utcnow()\n",
    "print(st,\"\\n\")\n",
    "\n",
    "y_pred=rf.predict(test)\n",
    "\n",
    "register_model(rf,\n",
    "                score,\n",
    "                \"boston_regression_HV\",\n",
    "                \"boston_regression_HV\",\n",
    "                MLModelFlavours.sklearn,\n",
    "                init_script=\"mkdir abc \\\\n cd abc \\\\n touch abc.txt\",\n",
    "                input_type=\"json\",\n",
    "                explain_ai=True,\n",
    "               x_train=train,\n",
    "               y_train=labels_train, \n",
    "               y_pred=y_pred,\n",
    "               y_true=labels_test,\n",
    "               features=list(boston.feature_names),\n",
    "               original_features=list(boston.feature_names),\n",
    "               model_type=\"regression\",\n",
    "               feature_names=list(boston.feature_names), \n",
    "               feature_ids=list(boston.feature_names), \n",
    "               target_names=['Housing_Price'],\n",
    "               progressbar=False\n",
    "              )"
   ]
  },
  {
   "cell_type": "code",
   "execution_count": 3,
   "metadata": {
    "ExecuteTime": {
     "end_time": "2021-02-22T12:21:53.357774Z",
     "start_time": "2021-02-22T12:21:53.353103Z"
    }
   },
   "outputs": [
    {
     "name": "stdout",
     "output_type": "stream",
     "text": [
      "2021-02-22 12:21:53.354768 \n",
      "\n",
      "0:02:18.194684\n"
     ]
    }
   ],
   "source": [
    "\n",
    "en = datetime.utcnow()\n",
    "print(en,\"\\n\")\n",
    "diff = en - st\n",
    "print(str(diff))\n",
    "\n"
   ]
  }
 ],
 "metadata": {
  "hide_input": false,
  "kernelspec": {
   "display_name": "Python 3",
   "language": "python",
   "name": "python3"
  },
  "language_info": {
   "codemirror_mode": {
    "name": "ipython",
    "version": 3
   },
   "file_extension": ".py",
   "mimetype": "text/x-python",
   "name": "python",
   "nbconvert_exporter": "python",
   "pygments_lexer": "ipython3",
   "version": "3.6.2"
  },
  "toc": {
   "base_numbering": 1,
   "nav_menu": {},
   "number_sections": true,
   "sideBar": true,
   "skip_h1_title": false,
   "title_cell": "Table of Contents",
   "title_sidebar": "Contents",
   "toc_cell": false,
   "toc_position": {},
   "toc_section_display": true,
   "toc_window_display": false
  },
  "varInspector": {
   "cols": {
    "lenName": 16,
    "lenType": 16,
    "lenVar": 40
   },
   "kernels_config": {
    "python": {
     "delete_cmd_postfix": "",
     "delete_cmd_prefix": "del ",
     "library": "var_list.py",
     "varRefreshCmd": "print(var_dic_list())"
    },
    "r": {
     "delete_cmd_postfix": ") ",
     "delete_cmd_prefix": "rm(",
     "library": "var_list.r",
     "varRefreshCmd": "cat(var_dic_list()) "
    }
   },
   "types_to_exclude": [
    "module",
    "function",
    "builtin_function_or_method",
    "instance",
    "_Feature"
   ],
   "window_display": false
  }
 },
 "nbformat": 4,
 "nbformat_minor": 4
}
