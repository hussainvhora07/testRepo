{
 "cells": [
  {
   "cell_type": "code",
   "execution_count": 2,
   "metadata": {},
   "outputs": [],
   "source": [
    "def big_data(X,y,reqlen):\n",
    "    Big_X = np.array(X)\n",
    "    Big_Y = np.array(y)\n",
    "    while len(Big_X) < reqlen:\n",
    "        Big_X = np.concatenate((Big_X, Big_X))\n",
    "        Big_Y = np.concatenate((Big_Y, Big_Y))\n",
    "    print(Big_X.shape)\n",
    "    indices = np.random.choice(Big_X.shape[0], reqlen, replace=False)\n",
    "    new_X = Big_X[indices]\n",
    "    new_Y = Big_Y[indices]\n",
    "    return new_X, new_Y"
   ]
  },
  {
   "cell_type": "markdown",
   "metadata": {},
   "source": [
    "# 1000 samples"
   ]
  },
  {
   "cell_type": "code",
   "execution_count": 1,
   "metadata": {},
   "outputs": [
    {
     "ename": "NameError",
     "evalue": "name 'big_data' is not defined",
     "output_type": "error",
     "traceback": [
      "\u001b[0;31m---------------------------------------------------------------------------\u001b[0m",
      "\u001b[0;31mNameError\u001b[0m                                 Traceback (most recent call last)",
      "\u001b[0;32m<ipython-input-1-3ff1d98ad29e>\u001b[0m in \u001b[0;36m<module>\u001b[0;34m\u001b[0m\n\u001b[1;32m     22\u001b[0m \u001b[0mY\u001b[0m \u001b[0;34m=\u001b[0m \u001b[0mboston\u001b[0m\u001b[0;34m.\u001b[0m\u001b[0mtarget\u001b[0m\u001b[0;34m\u001b[0m\u001b[0m\n\u001b[1;32m     23\u001b[0m \u001b[0;34m\u001b[0m\u001b[0m\n\u001b[0;32m---> 24\u001b[0;31m \u001b[0mBig_X\u001b[0m\u001b[0;34m,\u001b[0m \u001b[0mBig_Y\u001b[0m \u001b[0;34m=\u001b[0m \u001b[0mbig_data\u001b[0m\u001b[0;34m(\u001b[0m\u001b[0mX\u001b[0m\u001b[0;34m,\u001b[0m \u001b[0mY\u001b[0m\u001b[0;34m,\u001b[0m\u001b[0;36m1000\u001b[0m\u001b[0;34m)\u001b[0m\u001b[0;34m\u001b[0m\u001b[0m\n\u001b[0m\u001b[1;32m     25\u001b[0m \u001b[0;34m\u001b[0m\u001b[0m\n\u001b[1;32m     26\u001b[0m \u001b[0mprint\u001b[0m\u001b[0;34m(\u001b[0m\u001b[0mBig_X\u001b[0m\u001b[0;34m.\u001b[0m\u001b[0mshape\u001b[0m\u001b[0;34m)\u001b[0m\u001b[0;34m\u001b[0m\u001b[0m\n",
      "\u001b[0;31mNameError\u001b[0m: name 'big_data' is not defined"
     ]
    }
   ],
   "source": [
    "from sklearn.datasets import load_boston\n",
    "import sklearn.ensemble\n",
    "import numpy as np\n",
    "from sklearn.model_selection import train_test_split\n",
    "from mosaicml import *\n",
    "from mosaicml.constants import MLModelFlavours\n",
    "\n",
    "import pandas as pd\n",
    "from pandas import read_csv, DataFrame\n",
    "from sklearn.preprocessing import Imputer\n",
    "from sklearn.ensemble import GradientBoostingRegressor\n",
    "import numpy as np\n",
    "from mosaicml.api import graph\n",
    "\n",
    "# Importing the dataset\n",
    "boston = load_boston()\n",
    "\n",
    "# creating the model object\n",
    "rf = sklearn.ensemble.RandomForestRegressor(n_estimators=10)\n",
    "\n",
    "X = boston.data\n",
    "Y = boston.target\n",
    "\n",
    "Big_X, Big_Y = big_data(X, Y,1000)\n",
    "\n",
    "print(Big_X.shape)\n",
    "print(Big_Y.shape)\n",
    "\n",
    "train, test, labels_train, labels_test = train_test_split(Big_X, Big_Y, test_size=0.2, random_state=0)\n",
    "\n",
    "rf.fit(train, labels_train)\n",
    "\n",
    "\n",
    "# @scoring_func\n",
    "def score(model, request):\n",
    "    payload = request.json[\"payload\"]\n",
    "    data_list = payload\n",
    "    data_array = np.asarray(data_list)\n",
    "    try:\n",
    "        prediction = model.predict(data_array)\n",
    "    except:\n",
    "        prediction = model.predict(data_array.reshape(1, -1))\n",
    "    return prediction.tolist()\n",
    "\n",
    "# to verify if score func works\n",
    "import requests\n",
    "req = requests.Request()\n",
    "req.json = {\"payload\":train[10].tolist()}\n",
    "\n",
    "score(rf,req)\n",
    "\n",
    "from datetime import datetime\n",
    "st = datetime.utcnow()\n",
    "print(st,\"\\n\")\n",
    "\n",
    "y_pred=rf.predict(test)\n",
    "\n",
    "register_model(rf,\n",
    "                score,\n",
    "                \"boston_regression_1k\",\n",
    "                \"boston_regression_1k\",\n",
    "                MLModelFlavours.sklearn,\n",
    "                init_script=\"mkdir abc \\\\n cd abc \\\\n touch abc.txt\",\n",
    "                input_type=\"json\",\n",
    "                explain_ai=True,\n",
    "               x_train=train,\n",
    "               y_train=labels_train, \n",
    "               y_pred=y_pred,\n",
    "               y_true=labels_test,\n",
    "               features=list(boston.feature_names),\n",
    "               original_features=list(boston.feature_names),\n",
    "               model_type=\"regression\",\n",
    "               feature_names=list(boston.feature_names), \n",
    "               feature_ids=list(boston.feature_names), \n",
    "               target_names=['Housing_Price']\n",
    "              )"
   ]
  },
  {
   "cell_type": "code",
   "execution_count": null,
   "metadata": {},
   "outputs": [],
   "source": [
    "\n",
    "en = datetime.utcnow()\n",
    "print(en,\"\\n\")\n",
    "diff = en - st\n",
    "print(str(diff))\n",
    "\n"
   ]
  }
 ],
 "metadata": {
  "kernelspec": {
   "display_name": "Python 3",
   "language": "python",
   "name": "python3"
  },
  "language_info": {
   "codemirror_mode": {
    "name": "ipython",
    "version": 3
   },
   "file_extension": ".py",
   "mimetype": "text/x-python",
   "name": "python",
   "nbconvert_exporter": "python",
   "pygments_lexer": "ipython3",
   "version": "3.6.2"
  }
 },
 "nbformat": 4,
 "nbformat_minor": 4
}
